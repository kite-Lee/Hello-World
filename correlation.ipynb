{
  "nbformat": 4,
  "nbformat_minor": 0,
  "metadata": {
    "colab": {
      "name": "correlation",
      "provenance": [],
      "collapsed_sections": [],
      "mount_file_id": "1EMxJf8rJL6DhB_L0BNxRoWcNn5WSabSg",
      "authorship_tag": "ABX9TyNv24vL3qo9633vhMFNhFGU",
      "include_colab_link": true
    },
    "kernelspec": {
      "name": "python3",
      "display_name": "Python 3"
    },
    "language_info": {
      "name": "python"
    }
  },
  "cells": [
    {
      "cell_type": "markdown",
      "metadata": {
        "id": "view-in-github",
        "colab_type": "text"
      },
      "source": [
        "<a href=\"https://colab.research.google.com/github/kite-Lee/Hello-World/blob/main/correlation.ipynb\" target=\"_parent\"><img src=\"https://colab.research.google.com/assets/colab-badge.svg\" alt=\"Open In Colab\"/></a>"
      ]
    },
    {
      "cell_type": "code",
      "metadata": {
        "colab": {
          "base_uri": "https://localhost:8080/"
        },
        "id": "hYJe9xNs3QST",
        "outputId": "9bd2b1de-8324-4ecf-8a6b-ba7d654d8934"
      },
      "source": [
        "import pandas as pd\n",
        "from scipy.stats import chi2_contingency\n",
        "import numpy as np\n",
        "\n",
        "X_origin = pd.read_csv('mtl_data_non_stand.csv', parse_dates=['Year'])[['Household_region', 'Year', 'Trip_distance', 'Trip_time',\n",
        "     'Household_employeed', 'Household_children', 'Household_bike',\n",
        "     'Household_car', 'Household_licence', 'Individual_age',\n",
        "     'Individual_income', 'Population_density', 'Household_settlement_1', 'Individual_employment_1',\n",
        "     'Individual_education_1', 'Individual_gender_1']]\n",
        "Y_m_origin = pd.read_csv('mtl_data_non_stand.csv')['Mode']\n",
        "Y_p_origin = pd.read_csv('mtl_data_non_stand.csv', parse_dates=['Year'])[\n",
        "    ['Year', 'Trip_purpose_1', 'Trip_purpose_2', 'Trip_purpose_3', 'Trip_purpose_4', 'Trip_purpose_5',\n",
        "     'Trip_purpose_6', 'Trip_purpose_7']]\n",
        "LD_data = X_origin.loc[X_origin['Household_region'] == 7]\n",
        "LD_m = Y_m_origin[LD_data.index]\n",
        "LD_p = Y_p_origin.iloc[LD_data.index]\n",
        "\n",
        "\n",
        "LD_data['Year'] = LD_data['Year'].dt.year\n",
        "LD_p['Year'] = LD_p['Year'].dt.year\n",
        "for year in range(2005, 2006):\n",
        "  qstr = \"Year==\" + str(year)\n",
        "  print(qstr)\n",
        "\n",
        "  X = LD_data.query(qstr)\n",
        "  Y_m = LD_m.loc[X.index]  # Y_p can't get values in this way\n",
        "  Y_m = pd.get_dummies(Y_m).astype('int')\n",
        "  Y_m = np.array(Y_m)\n",
        "  Y_m = pd.DataFrame(Y_m)\n",
        "\n",
        "  Y_p = LD_p.query(qstr)\n",
        "  Y_p = Y_p.drop('Year', 1)\n",
        "  Y_p = np.array(Y_p)\n",
        "  Y_p = pd.DataFrame(Y_p)\n",
        "\n",
        "  Y_m.insert(Y_m.shape[1], \"label_m\", np.zeros(len(Y_m)))\n",
        "  Y_p.insert(Y_p.shape[1], \"label_p\", np.zeros(len(Y_p)))\n",
        "  # print(Y_m)\n",
        "  # print(Y_p)\n",
        "  for j in range(len(Y_p)):\n",
        "    for i in range(5):\n",
        "      if Y_m[i][j] == 1:\n",
        "        Y_m[\"label_m\"][j] = i + 1\n",
        "    for h in range(7):\n",
        "      if Y_p[h][j] == 1:\n",
        "        Y_p[\"label_p\"][j] = h + 1\n",
        "  \n",
        "  new_data = pd.DataFrame()\n",
        "  new_data[\"mode\"] = Y_m[\"label_m\"]\n",
        "  new_data[\"purpose\"] = Y_p[\"label_p\"]\n",
        "\n",
        "  tab = pd.crosstab(new_data['mode'], new_data[\"purpose\"])\n",
        "\n",
        "  chi2, p_values, dof, expected_matrix = chi2_contingency(tab, correction=False)\n",
        "\n",
        "  print(\"----chi2_contingency----\")\n",
        "  print(\"chi2: \", chi2)\n",
        "  print(\"p_values: \", p_values)\n",
        "  print(\"dof: \", dof)\n",
        "  print(\"expected_matrix[0]:\\n\", expected_matrix[0])\n",
        "  print(\"expected_matrix[1]:\\n\", expected_matrix[1])"
      ],
      "execution_count": 58,
      "outputs": [
        {
          "output_type": "stream",
          "name": "stderr",
          "text": [
            "/usr/local/lib/python3.7/dist-packages/ipykernel_launcher.py:19: SettingWithCopyWarning: \n",
            "A value is trying to be set on a copy of a slice from a DataFrame.\n",
            "Try using .loc[row_indexer,col_indexer] = value instead\n",
            "\n",
            "See the caveats in the documentation: https://pandas.pydata.org/pandas-docs/stable/user_guide/indexing.html#returning-a-view-versus-a-copy\n",
            "/usr/local/lib/python3.7/dist-packages/ipykernel_launcher.py:20: SettingWithCopyWarning: \n",
            "A value is trying to be set on a copy of a slice from a DataFrame.\n",
            "Try using .loc[row_indexer,col_indexer] = value instead\n",
            "\n",
            "See the caveats in the documentation: https://pandas.pydata.org/pandas-docs/stable/user_guide/indexing.html#returning-a-view-versus-a-copy\n",
            "/usr/local/lib/python3.7/dist-packages/ipykernel_launcher.py:43: SettingWithCopyWarning: \n",
            "A value is trying to be set on a copy of a slice from a DataFrame\n",
            "\n",
            "See the caveats in the documentation: https://pandas.pydata.org/pandas-docs/stable/user_guide/indexing.html#returning-a-view-versus-a-copy\n",
            "/usr/local/lib/python3.7/dist-packages/ipykernel_launcher.py:46: SettingWithCopyWarning: \n",
            "A value is trying to be set on a copy of a slice from a DataFrame\n",
            "\n",
            "See the caveats in the documentation: https://pandas.pydata.org/pandas-docs/stable/user_guide/indexing.html#returning-a-view-versus-a-copy\n"
          ]
        },
        {
          "output_type": "stream",
          "name": "stdout",
          "text": [
            "Year==2005\n",
            "       0  1  2  3  4  label_m\n",
            "0      1  0  0  0  0      0.0\n",
            "1      0  0  0  1  0      0.0\n",
            "2      1  0  0  0  0      0.0\n",
            "3      1  0  0  0  0      0.0\n",
            "4      1  0  0  0  0      0.0\n",
            "...   .. .. .. .. ..      ...\n",
            "19802  1  0  0  0  0      0.0\n",
            "19803  1  0  0  0  0      0.0\n",
            "19804  1  0  0  0  0      0.0\n",
            "19805  1  0  0  0  0      0.0\n",
            "19806  1  0  0  0  0      0.0\n",
            "\n",
            "[19807 rows x 6 columns]\n",
            "       0  1  2  3  4  5  6  label_p\n",
            "0      0  0  0  0  1  0  0      0.0\n",
            "1      0  0  0  0  1  0  0      0.0\n",
            "2      0  0  0  1  0  0  0      0.0\n",
            "3      0  0  0  1  0  0  0      0.0\n",
            "4      0  0  0  0  1  0  0      0.0\n",
            "...   .. .. .. .. .. .. ..      ...\n",
            "19802  0  0  0  0  1  0  0      0.0\n",
            "19803  0  0  0  0  0  1  0      0.0\n",
            "19804  0  0  0  0  0  1  0      0.0\n",
            "19805  0  0  0  1  0  0  0      0.0\n",
            "19806  0  0  0  1  0  0  0      0.0\n",
            "\n",
            "[19807 rows x 8 columns]\n",
            "----chi2_contingency----\n",
            "chi2:  3059.9467318846746\n",
            "p_values:  0.0\n",
            "dof:  24\n",
            "expected_matrix[0]:\n",
            " [556.33866815 111.03397789 169.35603574 418.89029131 226.15868127\n",
            " 611.50502348 221.71732216]\n",
            "expected_matrix[1]:\n",
            " [127.84975009  25.51623164  38.91896804  96.26334124  51.97253496\n",
            " 140.52728833  50.9518857 ]\n"
          ]
        }
      ]
    }
  ]
}